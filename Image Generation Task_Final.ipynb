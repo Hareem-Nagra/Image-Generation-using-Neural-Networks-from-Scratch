{
 "cells": [
  {
   "cell_type": "markdown",
   "id": "0fa9b9ee",
   "metadata": {},
   "source": [
    "## Image Generation using MNIST Dataset\n",
    "\n",
    "This project involves training a neural network model from scratch on the MNIST dataset to generate fake handwritten images of digits from 0-9."
   ]
  },
  {
   "cell_type": "code",
   "execution_count": 2,
   "id": "f2f14334",
   "metadata": {},
   "outputs": [
    {
     "name": "stdout",
     "output_type": "stream",
     "text": [
      "WARNING:tensorflow:From C:\\Users\\HP\\anaconda3\\lib\\site-packages\\keras\\src\\losses.py:2976: The name tf.losses.sparse_softmax_cross_entropy is deprecated. Please use tf.compat.v1.losses.sparse_softmax_cross_entropy instead.\n",
      "\n"
     ]
    }
   ],
   "source": [
    "# importing libraries\n",
    "import numpy as np\n",
    "import matplotlib.pyplot as plt\n",
    "from keras.datasets import mnist"
   ]
  },
  {
   "cell_type": "markdown",
   "id": "b8c35eb1",
   "metadata": {},
   "source": [
    "**Note: This is the only time the Keras library has been used in this notebook.**"
   ]
  },
  {
   "cell_type": "markdown",
   "id": "fc11bb3c",
   "metadata": {},
   "source": [
    "## Loading the dataset"
   ]
  },
  {
   "cell_type": "code",
   "execution_count": 3,
   "id": "00fa5f07",
   "metadata": {},
   "outputs": [],
   "source": [
    "(train_images,train_labels),(test_images,test_labels)=mnist.load_data()"
   ]
  },
  {
   "cell_type": "code",
   "execution_count": 4,
   "id": "0804fed7",
   "metadata": {},
   "outputs": [
    {
     "name": "stdout",
     "output_type": "stream",
     "text": [
      "(60000, 28, 28)\n",
      "(60000,)\n",
      "(10000, 28, 28)\n",
      "(10000,)\n"
     ]
    }
   ],
   "source": [
    "print(train_images.shape)\n",
    "print(train_labels.shape)\n",
    "print(test_images.shape)\n",
    "print(test_labels.shape)"
   ]
  },
  {
   "cell_type": "markdown",
   "id": "c7c7f25b",
   "metadata": {},
   "source": [
    "Our training dataset consits of 60,000 images and the testing dataset consists of 10,000 images."
   ]
  },
  {
   "cell_type": "markdown",
   "id": "a4c246bd",
   "metadata": {},
   "source": [
    "## Data Preprocessing\n",
    "\n",
    "Data preprocessing involved normalizing the images and flattening them so that they can be used as input to the fully connected layers of the neural network. These steps are done to speed up training and improve model performance. In addition, the digit labels are converted into one hot encoded vectors."
   ]
  },
  {
   "cell_type": "code",
   "execution_count": 5,
   "id": "ac877c22",
   "metadata": {},
   "outputs": [],
   "source": [
    "# normalizing images\n",
    "train_images=train_images/255.0\n",
    "test_images=test_images/255.0"
   ]
  },
  {
   "cell_type": "code",
   "execution_count": 6,
   "id": "648a3d84",
   "metadata": {},
   "outputs": [],
   "source": [
    "## flattening images( for fully connect layer of neural network)\n",
    "train_images=train_images.reshape(train_images.shape[0],-1)\n",
    "test_images=test_images.reshape(test_images.shape[0],-1)"
   ]
  },
  {
   "cell_type": "code",
   "execution_count": 7,
   "id": "d11d9cf9",
   "metadata": {},
   "outputs": [],
   "source": [
    "# One-hot encoding of labels\n",
    "num_classes=10\n",
    "train_labels=np.eye(num_classes)[train_labels]\n",
    "test_labels=np.eye(num_classes)[test_labels]"
   ]
  },
  {
   "cell_type": "markdown",
   "id": "98dc3c79",
   "metadata": {},
   "source": [
    "# Building the Neural Network\n",
    "\n",
    "We'll create a simple neural network with one hidden layer."
   ]
  },
  {
   "cell_type": "markdown",
   "id": "fca132ef",
   "metadata": {},
   "source": [
    "## Helper Functions\n",
    "\n",
    "First we define the activation and utility functions."
   ]
  },
  {
   "cell_type": "code",
   "execution_count": 8,
   "id": "3b4e245d",
   "metadata": {},
   "outputs": [],
   "source": [
    "def sigmoid(x):\n",
    "    return 1 / (1 + np.exp(-x))\n",
    "\n",
    "def relu(x):\n",
    "    return np.maximum(0, x)\n",
    "\n",
    "def relu_derivative(x):\n",
    "    return np.where(x > 0, 1, 0)\n",
    "\n",
    "def mse_loss(y_true, y_pred):\n",
    "    return np.mean((y_true - y_pred) ** 2)\n",
    "\n",
    "def mse_loss_derivative(y_true, y_pred):\n",
    "    return 2 * (y_pred - y_true) / y_true.size\n",
    "\n",
    "def dropout(x, drop_rate):\n",
    "    mask = np.random.binomial(1, 1-drop_rate, size=x.shape) / (1-drop_rate)\n",
    "    return x * mask"
   ]
  },
  {
   "cell_type": "markdown",
   "id": "1fe6befb",
   "metadata": {},
   "source": [
    " The sigmoid function will be used in the output layer, the Relu function will be used in the hidden layer, the MSE function will be used for caluclating loss , the derivative of the loss function and ReLU will be used for back propogation."
   ]
  },
  {
   "cell_type": "markdown",
   "id": "a95575e8",
   "metadata": {},
   "source": [
    "## Neural Network Class"
   ]
  },
  {
   "cell_type": "code",
   "execution_count": 10,
   "id": "91d597f5",
   "metadata": {},
   "outputs": [],
   "source": [
    "class SimpleNN:\n",
    "    def __init__(self, input_size, hidden_size, output_size):\n",
    "        self.weights_input_hidden = np.random.randn(input_size, hidden_size) * 0.01\n",
    "        self.bias_hidden = np.zeros((1, hidden_size))\n",
    "        self.weights_hidden_output = np.random.randn(hidden_size, output_size) * 0.01\n",
    "        self.bias_output = np.zeros((1, output_size))\n",
    "        self.hidden_size = hidden_size\n",
    "        self.output_size = output_size\n",
    "        self.m_t = [np.zeros_like(self.weights_input_hidden), np.zeros_like(self.weights_hidden_output)]\n",
    "        self.v_t = [np.zeros_like(self.weights_input_hidden), np.zeros_like(self.weights_hidden_output)]\n",
    "        self.beta1 = 0.9\n",
    "        self.beta2 = 0.999\n",
    "        self.epsilon = 1e-8\n",
    "        self.t = 0\n",
    "\n",
    "    def forward(self, x, drop_rate=0.5):\n",
    "        self.hidden_input = np.dot(x, self.weights_input_hidden) + self.bias_hidden\n",
    "        self.hidden_output = relu(self.hidden_input)\n",
    "        self.hidden_output = dropout(self.hidden_output, drop_rate)\n",
    "        self.final_input = np.dot(self.hidden_output, self.weights_hidden_output) + self.bias_output\n",
    "        self.final_output = sigmoid(self.final_input)\n",
    "        return self.final_output\n",
    "    \n",
    "    def backward(self, x, y, output, learning_rate):\n",
    "        self.t += 1\n",
    "        output_error = mse_loss_derivative(y, output)\n",
    "        output_delta = output_error * sigmoid(output)\n",
    "        \n",
    "        hidden_error = np.dot(output_delta, self.weights_hidden_output.T)\n",
    "        hidden_delta = hidden_error * relu_derivative(self.hidden_output)\n",
    "        \n",
    "        self.weights_hidden_output -= self.adam_update(self.weights_hidden_output, np.dot(self.hidden_output.T, output_delta), 1, learning_rate)\n",
    "        self.bias_output -= learning_rate * np.sum(output_delta, axis=0, keepdims=True)\n",
    "        self.weights_input_hidden -= self.adam_update(self.weights_input_hidden, np.dot(x.T, hidden_delta), 0, learning_rate)\n",
    "        self.bias_hidden -= learning_rate * np.sum(hidden_delta, axis=0, keepdims=True)\n",
    "    \n",
    "    def adam_update(self, weights, grad, idx, lr):\n",
    "        self.m_t[idx] = self.beta1 * self.m_t[idx] + (1 - self.beta1) * grad\n",
    "        self.v_t[idx] = self.beta2 * self.v_t[idx] + (1 - self.beta2) * np.square(grad)\n",
    "        \n",
    "        m_t_corr = self.m_t[idx] / (1 - np.power(self.beta1, self.t))\n",
    "        v_t_corr = self.v_t[idx] / (1 - np.power(self.beta2, self.t))\n",
    "        \n",
    "        return lr * m_t_corr / (np.sqrt(v_t_corr) + self.epsilon)\n",
    "    \n",
    "    def train(self, x, y, epochs, learning_rate):\n",
    "        loss_history = []\n",
    "        for epoch in range(epochs):\n",
    "            output = self.forward(x)\n",
    "            self.backward(x, y, output, learning_rate)\n",
    "            loss = mse_loss(y, output)\n",
    "            loss_history.append(loss)\n",
    "            if epoch % 100 == 0:\n",
    "                print(f'Epoch {epoch}, Loss: {loss}')\n",
    "        return loss_history\n",
    "\n",
    "# Define the network parameters\n",
    "input_size = 10\n",
    "hidden_size = 128  # Increased hidden layer size\n",
    "output_size = 784"
   ]
  },
  {
   "cell_type": "markdown",
   "id": "39ee0db1",
   "metadata": {},
   "source": [
    "We intitialize our network with an input layer,a hidden layer and an output layer. Weights are intialized to random,small values and biases were intialized as zeros. \n",
    "\n",
    "The forward propogation class computes the output of the hidden layer with ReLU activation and dropout.\n",
    "\n",
    "The backward propogation class updates the weights and biases with the help of the Adam optimizer.\n",
    "\n",
    "The train class trains our model over the specified number of epochs as well as stores the value of the loss function to monitor progress.\n",
    "\n",
    "In the end we define the network parameters.\n"
   ]
  },
  {
   "cell_type": "markdown",
   "id": "b5117c1d",
   "metadata": {},
   "source": [
    "# Training the Neural Network\n",
    "\n",
    "Our model is instantiated and trained over 10,000 epochs and the learning rate is set to 0.001"
   ]
  },
  {
   "cell_type": "code",
   "execution_count": 11,
   "id": "aec7d751",
   "metadata": {},
   "outputs": [
    {
     "name": "stdout",
     "output_type": "stream",
     "text": [
      "Epoch 0, Loss: 0.22928429717979393\n",
      "Epoch 100, Loss: 0.12318914589198074\n",
      "Epoch 200, Loss: 0.041854686244772524\n",
      "Epoch 300, Loss: 0.028384321966163327\n",
      "Epoch 400, Loss: 0.015355360829255437\n",
      "Epoch 500, Loss: 0.009251616060799672\n",
      "Epoch 600, Loss: 0.005977011582302201\n",
      "Epoch 700, Loss: 0.00453316346938082\n",
      "Epoch 800, Loss: 0.0032098944703798124\n",
      "Epoch 900, Loss: 0.004380582196477523\n",
      "Epoch 1000, Loss: 0.0029298901853856657\n",
      "Epoch 1100, Loss: 0.0033103492429369277\n",
      "Epoch 1200, Loss: 0.0037938841393938385\n",
      "Epoch 1300, Loss: 0.0031095713254765114\n",
      "Epoch 1400, Loss: 0.004019114299174214\n",
      "Epoch 1500, Loss: 0.003049816408949848\n",
      "Epoch 1600, Loss: 0.0037378322859673366\n",
      "Epoch 1700, Loss: 0.0036949343948547183\n",
      "Epoch 1800, Loss: 0.003001014193313364\n",
      "Epoch 1900, Loss: 0.0036857389441747952\n",
      "Epoch 2000, Loss: 0.0033003470467872307\n",
      "Epoch 2100, Loss: 0.0019876292194129326\n",
      "Epoch 2200, Loss: 0.0028348503159048057\n",
      "Epoch 2300, Loss: 0.0040229589577418364\n",
      "Epoch 2400, Loss: 0.0027341401239569835\n",
      "Epoch 2500, Loss: 0.0029351391729122013\n",
      "Epoch 2600, Loss: 0.002320643965851992\n",
      "Epoch 2700, Loss: 0.002667907657279486\n",
      "Epoch 2800, Loss: 0.0020720054050256003\n",
      "Epoch 2900, Loss: 0.0027918083120336747\n",
      "Epoch 3000, Loss: 0.0033058573200228903\n",
      "Epoch 3100, Loss: 0.003027842181943101\n",
      "Epoch 3200, Loss: 0.002523198560377529\n",
      "Epoch 3300, Loss: 0.002473149224011768\n",
      "Epoch 3400, Loss: 0.0020614228308508216\n",
      "Epoch 3500, Loss: 0.0019780247086997253\n",
      "Epoch 3600, Loss: 0.0019117091125648016\n",
      "Epoch 3700, Loss: 0.002016933264776202\n",
      "Epoch 3800, Loss: 0.0018012696565296716\n",
      "Epoch 3900, Loss: 0.0033746930110537914\n",
      "Epoch 4000, Loss: 0.0027958342344237006\n",
      "Epoch 4100, Loss: 0.0018561277116904663\n",
      "Epoch 4200, Loss: 0.0018960373599215292\n",
      "Epoch 4300, Loss: 0.0019963243871860535\n",
      "Epoch 4400, Loss: 0.0028114903426345226\n",
      "Epoch 4500, Loss: 0.0017027604649388498\n",
      "Epoch 4600, Loss: 0.0015974127597820306\n",
      "Epoch 4700, Loss: 0.001984552478417435\n",
      "Epoch 4800, Loss: 0.0016091610887980009\n",
      "Epoch 4900, Loss: 0.0015250449627581765\n",
      "Epoch 5000, Loss: 0.0014167598983427319\n",
      "Epoch 5100, Loss: 0.0019497485287615392\n",
      "Epoch 5200, Loss: 0.0016253343010050245\n",
      "Epoch 5300, Loss: 0.0020425105775027405\n",
      "Epoch 5400, Loss: 0.0014759810456044242\n",
      "Epoch 5500, Loss: 0.0024603568074475462\n",
      "Epoch 5600, Loss: 0.0017256328240783075\n",
      "Epoch 5700, Loss: 0.0013415889264750999\n",
      "Epoch 5800, Loss: 0.0014720275123172183\n",
      "Epoch 5900, Loss: 0.00141113943699076\n",
      "Epoch 6000, Loss: 0.0010722143509373642\n",
      "Epoch 6100, Loss: 0.0016031915925742621\n",
      "Epoch 6200, Loss: 0.0010753695295517445\n",
      "Epoch 6300, Loss: 0.0012269382242150982\n",
      "Epoch 6400, Loss: 0.0010896162196995076\n",
      "Epoch 6500, Loss: 0.0012093634386960142\n",
      "Epoch 6600, Loss: 0.0010053132000730552\n",
      "Epoch 6700, Loss: 0.0011547022406765502\n",
      "Epoch 6800, Loss: 0.000839965289434764\n",
      "Epoch 6900, Loss: 0.00103564311164205\n",
      "Epoch 7000, Loss: 0.0013948347458477303\n",
      "Epoch 7100, Loss: 0.0010868136893575854\n",
      "Epoch 7200, Loss: 0.001051238578163989\n",
      "Epoch 7300, Loss: 0.0006184861756512036\n",
      "Epoch 7400, Loss: 0.0006969523940959125\n",
      "Epoch 7500, Loss: 0.0006197884987744687\n",
      "Epoch 7600, Loss: 0.0006379324990236196\n",
      "Epoch 7700, Loss: 0.0012959622969795942\n",
      "Epoch 7800, Loss: 0.0006102856843076028\n",
      "Epoch 7900, Loss: 0.0007328561966100578\n",
      "Epoch 8000, Loss: 0.0006616807482524811\n",
      "Epoch 8100, Loss: 0.00076658460935232\n",
      "Epoch 8200, Loss: 0.0007885673339076238\n",
      "Epoch 8300, Loss: 0.0006302568568857497\n",
      "Epoch 8400, Loss: 0.0005536202913571785\n",
      "Epoch 8500, Loss: 0.0008692233293499153\n",
      "Epoch 8600, Loss: 0.0005884272928088601\n",
      "Epoch 8700, Loss: 0.0005461924512502353\n",
      "Epoch 8800, Loss: 0.0008890936339440783\n",
      "Epoch 8900, Loss: 0.0005401007320049755\n",
      "Epoch 9000, Loss: 0.00048031286263819915\n",
      "Epoch 9100, Loss: 0.00048660559153216725\n",
      "Epoch 9200, Loss: 0.0004070811522237409\n",
      "Epoch 9300, Loss: 0.0004155769677341158\n",
      "Epoch 9400, Loss: 0.00042262110847814604\n",
      "Epoch 9500, Loss: 0.0006179592945823283\n",
      "Epoch 9600, Loss: 0.0011278880114490263\n",
      "Epoch 9700, Loss: 0.0007603408418147795\n",
      "Epoch 9800, Loss: 0.0003429419354178846\n",
      "Epoch 9900, Loss: 0.00033282135677622485\n"
     ]
    }
   ],
   "source": [
    "# Instantiate the neural network\n",
    "nn = SimpleNN(input_size, hidden_size, output_size)\n",
    "\n",
    "# Create training data for the neural network\n",
    "x_train = np.eye(num_classes)\n",
    "y_train = np.array([train_images[train_labels[:, i].astype(bool)][0] for i in range(num_classes)])\n",
    "\n",
    "# Train the neural network\n",
    "loss_history = nn.train(x_train, y_train, epochs=10000, learning_rate=0.001)\n"
   ]
  },
  {
   "cell_type": "code",
   "execution_count": 12,
   "id": "6849ae6d",
   "metadata": {},
   "outputs": [
    {
     "data": {
      "image/png": "[encoded data removed]",
      "text/plain": [
       "<Figure size 640x480 with 1 Axes>"
      ]
     },
     "metadata": {},
     "output_type": "display_data"
    }
   ],
   "source": [
    "# Plot the training loss over epochs\n",
    "plt.plot(range(10000), loss_history)\n",
    "plt.xlabel('Epochs')\n",
    "plt.ylabel('Loss')\n",
    "plt.title('Training Loss Over Epochs')\n",
    "plt.show()"
   ]
  },
  {
   "cell_type": "markdown",
   "id": "3e6bdea7",
   "metadata": {},
   "source": [
    "# Generating Images"
   ]
  },
  {
   "cell_type": "code",
   "execution_count": 17,
   "id": "0df57812",
   "metadata": {},
   "outputs": [
    {
     "name": "stdout",
     "output_type": "stream",
     "text": [
      "Enter a digit (0-9) to generate its image: 8\n"
     ]
    },
    {
     "data": {
      "image/png": "[encoded data removed]",
      "text/plain": [
       "<Figure size 640x480 with 1 Axes>"
      ]
     },
     "metadata": {},
     "output_type": "display_data"
    }
   ],
   "source": [
    "def generate_digit_image(digit):\n",
    "    input_vector = np.zeros((1, num_classes))\n",
    "    input_vector[0, digit] = 1\n",
    "    generated_image = nn.forward(input_vector, drop_rate=0.0)  # No dropout during inference\n",
    "    generated_image = generated_image.reshape(28, 28)\n",
    "    \n",
    "    plt.imshow(generated_image, cmap='gray')\n",
    "    plt.title(f'Generated Digit: {digit}')\n",
    "    plt.show()\n",
    "\n",
    "# Example of generating an image for a specific digit\n",
    "digit_to_generate = int(input(\"Enter a digit (0-9) to generate its image: \"))\n",
    "generate_digit_image(digit_to_generate)"
   ]
  },
  {
   "cell_type": "markdown",
   "id": "cb5cf95f",
   "metadata": {},
   "source": [
    "Different images can be generated based on user input."
   ]
  },
  {
   "cell_type": "code",
   "execution_count": null,
   "id": "a5786f29",
   "metadata": {},
   "outputs": [],
   "source": []
  }
 ],
 "metadata": {
  "kernelspec": {
   "display_name": "Python 3 (ipykernel)",
   "language": "python",
   "name": "python3"
  },
  "language_info": {
   "codemirror_mode": {
    "name": "ipython",
    "version": 3
   },
   "file_extension": ".py",
   "mimetype": "text/x-python",
   "name": "python",
   "nbconvert_exporter": "python",
   "pygments_lexer": "ipython3",
   "version": "3.9.13"
  }
 },
 "nbformat": 4,
 "nbformat_minor": 5
}
